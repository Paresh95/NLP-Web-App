{
 "cells": [
  {
   "cell_type": "markdown",
   "metadata": {},
   "source": [
    "# Text Summary Methods"
   ]
  },
  {
   "cell_type": "markdown",
   "metadata": {},
   "source": [
    "#### Text sample data "
   ]
  },
  {
   "cell_type": "code",
   "execution_count": 90,
   "metadata": {},
   "outputs": [],
   "source": [
    "text = \"\"\" New York (CNN)When Liana Barrientos was 23 years old, she got married in Westchester County, New York.\n",
    " A year later, she got married again in Westchester County, but to a different man and without divorcing her first husband.\n",
    " Only 18 days after that marriage, she got hitched yet again. Then, Barrientos declared \"I do\" five more times, sometimes only within two weeks of each other.\n",
    " In 2010, she married once more, this time in the Bronx. In an application for a marriage license, she stated it was her \"first and only\" marriage.\n",
    " Barrientos, now 39, is facing two criminal counts of \"offering a false instrument for filing in the first degree,\" referring to her false statements on the\n",
    " 2010 marriage license application, according to court documents.\n",
    " Prosecutors said the marriages were part of an immigration scam.\n",
    " On Friday, she pleaded not guilty at State Supreme Court in the Bronx, according to her attorney, Christopher Wright, who declined to comment further.\n",
    "After leaving court, Barrientos was arrested and charged with theft of service and criminal trespass for allegedly sneaking into the New York subway through an emergency exit, said Detective\n",
    " Annette Markowski, a police spokeswoman. In total, Barrientos has been married 10 times, with nine of her marriages occurring between 1999 and 2002.\n",
    " All occurred either in Westchester County, Long Island, New Jersey or the Bronx. She is believed to still be married to four men, and at one time, she was married to eight men at once, prosecutors say.\n",
    "Prosecutors said the immigration scam involved some of her husbands, who filed for permanent residence status shortly after the marriages.\n",
    "Any divorces happened only after such filings were approved. It was unclear whether any of the men will be prosecuted.\n",
    "The case was referred to the Bronx District Attorney\\'s Office by Immigration and Customs Enforcement and the Department of Homeland Security\\'s\n",
    "Investigation Division. Seven of the men are from so-called \"red-flagged\" countries, including Egypt, Turkey, Georgia, Pakistan and Mali.\n",
    "Her eighth husband, Rashid Rajput, was deported in 2006 to his native Pakistan after an investigation by the Joint Terrorism Task Force.\n",
    " If convicted, Barrientos faces up to four years in prison.  Her next court appearance is scheduled for May 18.\n",
    "\"\"\""
   ]
  },
  {
   "cell_type": "code",
   "execution_count": 91,
   "metadata": {},
   "outputs": [],
   "source": [
    "ARTICLE2 = \"WASHINGTON — With Florida looking red early on Tuesday night, President Trump and his\\\n",
    "advisers thought they were witnessing a repeat of election night 2016, when a victory in Florida \\\n",
    "foreshadowed a victory over all.Inside the East Room, the mood was upbeat as hundreds of people, \\\n",
    "including cabinet secretaries, ambassadors and former officials who have remained loyal to Mr. Trump, \\\n",
    "mingled and dined on sliders and French fries. Officials who had been pessimistic about the president’s \\\n",
    "re-election chances suddenly started to picture four more years in power.That mirage of victory was pierced \\\n",
    "when Fox News called Arizona for former Vice President Joseph R. Biden Jr. at 11:20 p.m., with just 73 \\\n",
    "percent of the state’s vote counted.Mr. Trump and his advisers erupted at the news. If it was true \\\n",
    "that Arizona was lost, it would call into doubt on any claim of victory the president might be able to make.What \\\n",
    "ensued for Mr. Trump was a night of angry calls to Republican governors and advice from \\\n",
    "campaign aides that he ignored, leading to a middle-of-the-night presidential briefing in which \\\n",
    "he made a reckless and unsubstantiated string of remarks about the democratic process. Standing\\\n",
    "in the East Room at 2:30 a.m., he dismissed the election as a “fraud” and claimed he wanted to \\\n",
    "stop the counting of votes and leave the results to the Supreme Court.The Trump campaign knew Arizona \\\n",
    "could be up for grabs, but the Fox News call putting it in Mr. Biden’s column was symbolic, making it\\\n",
    "the first state that appeared to have flipped from the president’s 2016 batch of winning states. Gov.\\\n",
    "Doug Ducey, Republican of Arizona, had been on the phone all night with administration officials and \\\n",
    "campaign staff members, adamant that there were still Republican votes to be counted in his state.\"\n"
   ]
  },
  {
   "cell_type": "code",
   "execution_count": 92,
   "metadata": {},
   "outputs": [],
   "source": [
    "ARTICLE3 = \"A mass vaccination programme against Covid-19 is set to begin in the UK on Tuesday. While the\\\n",
    "government is working to ease the fears of those who are worried about safety, some people have a more \\\n",
    "primal fear - needles.My heart would be racing. My mind saying, 'calm down, it's going to be fine' \\\n",
    "but also, 'it's terrifying, it's going to really hurt you'. Then 'you don't know this person, so you '\\\n",
    "can't trust them'. I would be thinking of ways to get away from it.Raelene Goody, 31, who has cystic\\\n",
    "fibrosis, an inherited condition that causes lung infections and problems digesting food, regularly \\\n",
    "requires injections, including an annual flu jab.But from the age of four to her late teens, she \\\n",
    "suffered from severe needle phobia that would leave her shaking and often meant she had to be sedated.\\\n",
    "When will you be eligible for the Covid vaccine? How does the Pfizer vaccine work? The vaccine - your \\\n",
    "questions answered It's like when you are really scared of something like spiders and \\\n",
    "snakes and you want to run away. It's a similar feeling, except it is a needle, she says. \\\n",
    "Apparently I punched my dad in the face once, but I was so petrified I can't remember it.\\\n",
    "Raelene's severe phobia of injections, known as trypanophobia, in her younger years is not uncommon. \\\n",
    "Some others have a more general fear of needles, known as belonephobia. Studies show such a fear is \\\n",
    "highest in children and decreases with age. Nevertheless, it affects up to 10% of the overall population,\\\n",
    "according to charity Anxiety UK.Despite her phobia, Raelene, from West Sussex, was still able to go \\\n",
    "through with her flu vaccination each year, although it could sometimes take hours to administer the jab.\""
   ]
  },
  {
   "cell_type": "markdown",
   "metadata": {},
   "source": [
    "## 1) Word Frequency Algorithm\n",
    "\n",
    "- https://becominghuman.ai/text-summarization-in-5-steps-using-nltk-65b21e352b65"
   ]
  },
  {
   "cell_type": "code",
   "execution_count": 4,
   "metadata": {},
   "outputs": [],
   "source": [
    "def _create_frequency_table(text_string) -> dict:\n",
    "\n",
    "    stopWords = set(stopwords.words(\"english\"))\n",
    "    words = word_tokenize(text_string)\n",
    "    ps = PorterStemmer()\n",
    "\n",
    "    freqTable = dict()\n",
    "    for word in words:\n",
    "        word = ps.stem(word)\n",
    "        if word in stopWords:\n",
    "            continue\n",
    "        if word in freqTable:\n",
    "            freqTable[word] += 1\n",
    "        else:\n",
    "            freqTable[word] = 1\n",
    "\n",
    "    return freqTable\n",
    "\n",
    "\n",
    "\n",
    "def _score_sentences(sentences, freqTable) -> dict:\n",
    "    sentenceValue = dict()\n",
    "\n",
    "    for sentence in sentences:\n",
    "        word_count_in_sentence = (len(word_tokenize(sentence)))\n",
    "        for wordValue in freqTable:\n",
    "            if wordValue in sentence.lower():\n",
    "                if sentence[:10] in sentenceValue:\n",
    "                    sentenceValue[sentence[:10]] += freqTable[wordValue]\n",
    "                else:\n",
    "                    sentenceValue[sentence[:10]] = freqTable[wordValue]\n",
    "\n",
    "        sentenceValue[sentence[:10]] = sentenceValue[sentence[:10]] // word_count_in_sentence\n",
    "\n",
    "    return sentenceValue\n",
    "\n",
    "\n",
    "def _find_average_score(sentenceValue) -> int:\n",
    "    sumValues = 0\n",
    "    for entry in sentenceValue:\n",
    "        sumValues += sentenceValue[entry]\n",
    "\n",
    "    # Average value of a sentence from original text\n",
    "    average = int(sumValues / len(sentenceValue))\n",
    "\n",
    "    return average\n",
    "\n",
    "\n",
    "def _generate_summary(sentences, sentenceValue, threshold):\n",
    "    sentence_count = 0\n",
    "    summary = ''\n",
    "\n",
    "    for sentence in sentences:\n",
    "        if sentence[:10] in sentenceValue and sentenceValue[sentence[:10]] > (threshold):\n",
    "            summary += \" \" + sentence\n",
    "            sentence_count += 1\n",
    "\n",
    "    return summary"
   ]
  },
  {
   "cell_type": "code",
   "execution_count": 5,
   "metadata": {},
   "outputs": [
    {
     "name": "stdout",
     "output_type": "stream",
     "text": [
      " Only 18 days after that marriage, she got hitched yet again. In 2010, she married once more, this time in the Bronx. If convicted, Barrientos faces up to four years in prison.\n"
     ]
    }
   ],
   "source": [
    "from nltk.corpus import stopwords\n",
    "from nltk.stem import PorterStemmer\n",
    "from nltk.tokenize import word_tokenize, sent_tokenize\n",
    "\n",
    "# 1 Create the word frequency table\n",
    "freq_table = _create_frequency_table(text)\n",
    "\n",
    "'''\n",
    "We already have a sentence tokenizer, so we just need \n",
    "to run the sent_tokenize() method to create the array of sentences.\n",
    "'''\n",
    "\n",
    "# 2 Tokenize the sentences\n",
    "sentences = sent_tokenize(text)\n",
    "\n",
    "# 3 Important Algorithm: score the sentences\n",
    "sentence_scores = _score_sentences(sentences, freq_table)\n",
    "\n",
    "# 4 Find the threshold\n",
    "threshold = _find_average_score(sentence_scores)\n",
    "\n",
    "# 5 Important Algorithm: Generate the summary\n",
    "# Note: smaller threshold values generate more text\n",
    "summary = _generate_summary(sentences, sentence_scores, 1.5 * threshold)\n",
    "\n",
    "print(summary)"
   ]
  },
  {
   "cell_type": "markdown",
   "metadata": {},
   "source": [
    "## 2) TextRank embedding Algorithm\n",
    "\n",
    "- https://www.analyticsvidhya.com/blog/2018/11/introduction-text-summarization-textrank-python/\n",
    "- Note: requires downloading an ~800Mb word embeddings model"
   ]
  },
  {
   "cell_type": "markdown",
   "metadata": {},
   "source": [
    "## 3) Unsupervised Text Summarization using Sentence Embeddings\n",
    "\n",
    "- Note: requires a ~2GB word embeddings model"
   ]
  },
  {
   "cell_type": "markdown",
   "metadata": {},
   "source": [
    "## 4) TextRank Algorithm"
   ]
  },
  {
   "cell_type": "code",
   "execution_count": null,
   "metadata": {},
   "outputs": [],
   "source": [
    "!pip install gensim"
   ]
  },
  {
   "cell_type": "code",
   "execution_count": 6,
   "metadata": {},
   "outputs": [
    {
     "data": {
      "text/plain": [
       "'I would be thinking of ways to get away from it.Raelene Goody, 31, who has cysticfibrosis, an inherited condition that causes lung infections and problems digesting food, regularly requires injections, including an annual flu jab.But from the age of four to her late teens, she suffered from severe needle phobia that would leave her shaking and often meant she had to be sedated.When will you be eligible for the Covid vaccine?'"
      ]
     },
     "execution_count": 6,
     "metadata": {},
     "output_type": "execute_result"
    }
   ],
   "source": [
    "from gensim.summarization.summarizer import summarize\n",
    "summarize(ARTICLE3, ratio=0.1, word_count=None, split=False)"
   ]
  },
  {
   "cell_type": "markdown",
   "metadata": {},
   "source": [
    "## TextRank\n",
    "\n",
    "- https://towardsdatascience.com/understand-text-summarization-and-create-your-own-summarizer-in-python-b26a9f09fc70"
   ]
  },
  {
   "cell_type": "code",
   "execution_count": null,
   "metadata": {},
   "outputs": [],
   "source": [
    "#!/usr/bin/env python\n",
    "# coding: utf-8\n",
    "\n",
    "from nltk.corpus import stopwords\n",
    "from nltk.cluster.util import cosine_distance\n",
    "import numpy as np\n",
    "import networkx as nx\n",
    "from nltk import sent_tokenize\n",
    "\n",
    " \n",
    "def read_article(text):\n",
    "    \n",
    "    sentences = sent_tokenize(text)    \n",
    "    return sentences\n",
    "\n",
    "def sentence_similarity(sent1, sent2, stopwords=None):\n",
    "    if stopwords is None:\n",
    "        stopwords = []\n",
    " \n",
    "    sent1 = [w.lower() for w in sent1]\n",
    "    sent2 = [w.lower() for w in sent2]\n",
    " \n",
    "    all_words = list(set(sent1 + sent2))\n",
    " \n",
    "    vector1 = [0] * len(all_words)\n",
    "    vector2 = [0] * len(all_words)\n",
    " \n",
    "    # build the vector for the first sentence\n",
    "    for w in sent1:\n",
    "        if w in stopwords:\n",
    "            continue\n",
    "        vector1[all_words.index(w)] += 1\n",
    " \n",
    "    # build the vector for the second sentence\n",
    "    for w in sent2:\n",
    "        if w in stopwords:\n",
    "            continue\n",
    "        vector2[all_words.index(w)] += 1\n",
    " \n",
    "    return 1 - cosine_distance(vector1, vector2)\n",
    " \n",
    "def build_similarity_matrix(sentences, stop_words):\n",
    "    # Create an empty similarity matrix\n",
    "    similarity_matrix = np.zeros((len(sentences), len(sentences)))\n",
    " \n",
    "    for idx1 in range(len(sentences)):\n",
    "        for idx2 in range(len(sentences)):\n",
    "            if idx1 == idx2: #ignore if both are same sentences\n",
    "                continue \n",
    "            similarity_matrix[idx1][idx2] = sentence_similarity(sentences[idx1], sentences[idx2], stop_words)\n",
    "\n",
    "    return similarity_matrix\n",
    "\n",
    "\n",
    "def generate_summary(text, top_n=5):\n",
    "    stop_words = stopwords.words('english')\n",
    "    summarize_text = []\n",
    "\n",
    "    # Step 1 - Read text anc split it\n",
    "    sentences =  read_article(text)\n",
    "\n",
    "    # Step 2 - Generate Similary Martix across sentences\n",
    "    sentence_similarity_martix = build_similarity_matrix(sentences, stop_words)\n",
    "\n",
    "    # Step 3 - Rank sentences in similarity martix\n",
    "    sentence_similarity_graph = nx.from_numpy_array(sentence_similarity_martix)\n",
    "    scores = nx.pagerank(sentence_similarity_graph)\n",
    "\n",
    "    # Step 4 - Sort the rank and pick top sentences\n",
    "    ranked_sentence = sorted(((scores[i],s) for i,s in enumerate(sentences)), reverse=True)    \n",
    "    print(\"Indexes of top ranked_sentence order are \", ranked_sentence)    \n",
    "\n",
    "    for i in range(top_n):\n",
    "        summarize_text.append(\" \".join(ranked_sentence[i][1]))\n",
    "\n",
    "    # Step 5 - Offcourse, output the summarize texr\n",
    "    print(\"Summarize Text: \\n\", \". \".join(summarize_text))\n",
    "\n",
    "# let's begin\n",
    "generate_summary(ARTICLE2, 3)"
   ]
  },
  {
   "cell_type": "markdown",
   "metadata": {},
   "source": [
    "# Transformer summariser"
   ]
  },
  {
   "cell_type": "code",
   "execution_count": null,
   "metadata": {},
   "outputs": [],
   "source": [
    "!pip install bert-extractive-summarizer==0.5.1"
   ]
  },
  {
   "cell_type": "code",
   "execution_count": null,
   "metadata": {},
   "outputs": [],
   "source": [
    "from summarizer import Summarizer\n",
    "body = ARTICLE3\n",
    "model = Summarizer()\n",
    "result = model(body, ratio=1, min_length=90, max_length=1000, algorithm='t5-small') "
   ]
  },
  {
   "cell_type": "code",
   "execution_count": 9,
   "metadata": {},
   "outputs": [
    {
     "data": {
      "text/plain": [
       "\"While thegovernment is working to ease the fears of those who are worried about safety, some people have a more primal fear - needles. My mind saying, 'calm down, it's going to be fine' but also, 'it's terrifying, it's going to really hurt you'. Raelene Goody, 31, who has cysticfibrosis, an inherited condition that causes lung infections and problems digesting food, regularly requires injections, including an annual flu jab. But from the age of four to her late teens, she suffered from severe needle phobia that would leave her shaking and often meant she had to be sedated. The vaccine - your questions answered It's like when you are really scared of something like spiders and snakes and you want to run away. Raelene's severe phobia of injections, known as trypanophobia, in her younger years is not uncommon. Nevertheless, it affects up to 10% of the overall population,according to charity Anxiety UK.Despite her phobia, Raelene, from West Sussex, was still able to go through with her flu vaccination each year, although it could sometimes take hours to administer the jab.\""
      ]
     },
     "execution_count": 9,
     "metadata": {},
     "output_type": "execute_result"
    }
   ],
   "source": [
    "result"
   ]
  },
  {
   "cell_type": "markdown",
   "metadata": {},
   "source": [
    "## T5-small Hugging Face model"
   ]
  },
  {
   "cell_type": "code",
   "execution_count": null,
   "metadata": {},
   "outputs": [],
   "source": [
    "!pip install transformers"
   ]
  },
  {
   "cell_type": "code",
   "execution_count": 171,
   "metadata": {},
   "outputs": [],
   "source": [
    "from transformers import T5ForConditionalGeneration, T5Tokenizer\n",
    "\n",
    "def predict_summariser(text):\n",
    "    # initialize the model architecture and weights\n",
    "    model = T5ForConditionalGeneration.from_pretrained(\"t5-small\")\n",
    "    \n",
    "    # initialize the model tokenizer\n",
    "    tokenizer = T5Tokenizer.from_pretrained(\"t5-small\")\n",
    "\n",
    "    # encode the text into tensor of integers using the appropriate tokenizer\n",
    "    inputs = tokenizer.encode(\"summarize: \" + text, return_tensors=\"pt\", max_length=512, truncation=True)\n",
    "\n",
    "    # generate the summarization output\n",
    "    outputs = model.generate(\n",
    "        inputs, \n",
    "        max_length=600, \n",
    "        min_length=100, \n",
    "        length_penalty=0.1, \n",
    "        num_beams=4, \n",
    "        early_stopping=False, \n",
    "        do_sample=True)\n",
    "    \n",
    "    return tokenizer.decode(outputs[0])"
   ]
  },
  {
   "cell_type": "code",
   "execution_count": 173,
   "metadata": {},
   "outputs": [
    {
     "name": "stderr",
     "output_type": "stream",
     "text": [
      "Some weights of the model checkpoint at t5-small were not used when initializing T5ForConditionalGeneration: ['decoder.block.0.layer.1.EncDecAttention.relative_attention_bias.weight']\n",
      "- This IS expected if you are initializing T5ForConditionalGeneration from the checkpoint of a model trained on another task or with another architecture (e.g. initializing a BertForSequenceClassification model from a BertForPreTraining model).\n",
      "- This IS NOT expected if you are initializing T5ForConditionalGeneration from the checkpoint of a model that you expect to be exactly identical (initializing a BertForSequenceClassification model from a BertForSequenceClassification model).\n"
     ]
    },
    {
     "data": {
      "text/plain": [
       "'<pad> president and hisadvisers thought they were witnessing a repeat of election night 2016 when a victory in Florida foreshadowed a victory over all. the mood was upbeat as hundreds of people, including cabinet secretaries, ambassadors and former officials mingled and dined on sliders and French fries. if it was true that Arizona was lost, it would call into doubt on any claim of victory the president might be able to make.</s>'"
      ]
     },
     "execution_count": 173,
     "metadata": {},
     "output_type": "execute_result"
    }
   ],
   "source": [
    "predict_summariser(ARTICLE2)"
   ]
  },
  {
   "cell_type": "code",
   "execution_count": 166,
   "metadata": {},
   "outputs": [],
   "source": [
    "from transformers import T5ForConditionalGeneration, T5Tokenizer\n",
    "\n",
    "# initialize the model architecture and weights\n",
    "model = T5ForConditionalGeneration.from_pretrained(\"t5-small\")\n",
    "# initialize the model tokenizer\n",
    "tokenizer = T5Tokenizer.from_pretrained(\"t5-small\")\n",
    "\n",
    "# encode the text into tensor of integers using the appropriate tokenizer\n",
    "inputs = tokenizer.encode(\"summarize: \" + ARTICLE3, return_tensors=\"pt\", max_length=512, truncation=True)\n",
    "\n",
    "# generate the summarization output\n",
    "outputs = model.generate(\n",
    "    inputs, \n",
    "    max_length=600, \n",
    "    min_length=200, \n",
    "    length_penalty=0.1, \n",
    "    num_beams=4, \n",
    "    early_stopping=False, \n",
    "    do_sample=True)\n",
    "# just for debugging\n",
    "print(outputs)\n",
    "print(tokenizer.decode(outputs[0]))"
   ]
  },
  {
   "cell_type": "code",
   "execution_count": 167,
   "metadata": {},
   "outputs": [
    {
     "data": {
      "text/plain": [
       "torch.Size([1, 426])"
      ]
     },
     "execution_count": 167,
     "metadata": {},
     "output_type": "execute_result"
    }
   ],
   "source": [
    "inputs.size()"
   ]
  },
  {
   "cell_type": "code",
   "execution_count": 168,
   "metadata": {},
   "outputs": [
    {
     "name": "stdout",
     "output_type": "stream",
     "text": [
      "summarize: A mass vaccination programme against Covid-19 is set to begin in the UK on Tuesday. While thegovernment is working to ease the fears of those who are worried about safety, some people have a more primal fear - needles.My heart would be racing. My mind saying, 'calm down, it's going to be fine' but also, 'it's terrifying, it's going to really hurt you'. Then 'you don't know this person, so you 'can't trust them'. I would be thinking of ways to get away from it.Raelene Goody, 31, who has cysticfibrosis, an inherited condition that causes lung infections and problems digesting food, regularly requires injections, including an annual flu jab.But from the age of four to her late teens, she suffered from severe needle phobia that would leave her shaking and often meant she had to be sedated.When will you be eligible for the Covid vaccine? How does the Pfizer vaccine work? The vaccine - your questions answered It's like when you are really scared of something like spiders and snakes and you want to run away. It's a similar feeling, except it is a needle, she says. Apparently I punched my dad in the face once, but I was so petrified I can't remember it.Raelene's severe phobia of injections, known as trypanophobia, in her younger years is not uncommon. Some others have a more general fear of needles, known as belonephobia. Studies show such a fear is highest in children and decreases with age. Nevertheless, it affects up to 10% of the overall population,according to charity Anxiety UK.Despite her phobia, Raelene, from West Sussex, was still able to go through with her flu vaccination each year, although it could sometimes take hours to administer the jab.</s>\n"
     ]
    }
   ],
   "source": [
    "print(tokenizer.decode(inputs[0]))"
   ]
  },
  {
   "cell_type": "code",
   "execution_count": 169,
   "metadata": {},
   "outputs": [
    {
     "name": "stdout",
     "output_type": "stream",
     "text": [
      "tensor([[    0,     3,     9,  3294, 24639,  2486,   581,   638,  6961,  4481,\n",
      "            19,   356,    12,  1731,    16,     8,     3,  1598,    30,     3,\n",
      "            17,    76,    15,     7,  1135,     3,     5,   128,   151,    43,\n",
      "             3,     9,    72,  3778,    40,  2971,     3,    18, 11769,     7,\n",
      "             3,     5,     8,   789,    19,   464,    12,  4226,     8, 14935,\n",
      "            13,   273,  9220,    81,  1455,     3,     5,   128,   151,    43,\n",
      "             3,     9,    72,  3778,    40,  2971,     3,    18, 11769,     7,\n",
      "             3,     5,     3,    31,  4188,   278,    31,    17,   214,    48,\n",
      "           568,     6,    78,    25,     3,    31,  1608,    31,    17,  2019,\n",
      "           135,    31,     6,   845,     8,  2664,    18,  1201,    18,  1490,\n",
      "             3,     5,   255,    65, 26530,   447, 20602,     7,   159,     6,\n",
      "            46,     3, 23665,  1706,     5,    61,    61,     2,     5,     3,\n",
      "           233,     3,   233,   509,  6961,  4481,     3,     5,     8, 24639,\n",
      "          2486,    56,  1731,    16,     8,     3,  1598,    30,  1911,  1135,\n",
      "            11,   228,     3,     5,     3,     5,     3,     5,     3,     5,\n",
      "             3,     5,   128,     3,     5,    34,     3,    18,     3,     5,\n",
      "             3,     5,   128,     3,     5,     3,     5,   128,   151,     3,\n",
      "             5,     8,     3,     5,    68,     3,     5,     3,     5,     3,\n",
      "             5,     3,     5,   128,   151,    43,     3,     9,    72,  3778,\n",
      "            40,  2971,     3,    18, 11769,     7,     6,    78,    25,     3,\n",
      "             5,     1]])\n",
      "<pad> a mass vaccination programme against Covid-19 is set to begin in the uk on tuesday. some people have a more primal fear - needles. the government is working to ease the fears of those worried about safety. some people have a more primal fear - needles. 'you don't know this person, so you 'can't trust them', says the 31-year-old. she has cysticfibrosis, an inherited condition.))<unk>.......covid-19. the vaccination programme will begin in the uk on monday and could..... some. it -.. some.. some people. the. but.... some people have a more primal fear - needles, so you.</s>\n"
     ]
    }
   ],
   "source": [
    "# generate the summarization output\n",
    "outputs = model.generate(\n",
    "    inputs, \n",
    "    max_length=600, \n",
    "    min_length=200, \n",
    "    length_penalty=0.1, \n",
    "    num_beams=4, \n",
    "    early_stopping=False, \n",
    "    do_sample=True)\n",
    "# just for debugging\n",
    "print(outputs)\n",
    "print(tokenizer.decode(outputs[0]))"
   ]
  },
  {
   "cell_type": "markdown",
   "metadata": {},
   "source": [
    "## Sentiment and Subjectivity Analysis"
   ]
  },
  {
   "cell_type": "code",
   "execution_count": null,
   "metadata": {},
   "outputs": [],
   "source": [
    "!pip install textblob==0.15.3"
   ]
  },
  {
   "cell_type": "code",
   "execution_count": 151,
   "metadata": {},
   "outputs": [],
   "source": [
    "from textblob import TextBlob\n",
    "\n",
    "def predict_sentiment(text):\n",
    "    \"\"\"\n",
    "    Input\n",
    "    ----------\n",
    "    text(string)\n",
    "\n",
    "    Returns\n",
    "    ----------\n",
    "    The sentiment and sentiment score ranging from [-1,1]\n",
    "    \"\"\"\n",
    "\n",
    "    TextBlob_object = TextBlob(text)\n",
    "    sentiment_score = TextBlob_object.sentiment.polarity\n",
    "    \n",
    "    if sentiment_score == 0:\n",
    "        output = \"Neutral sentiment: \" + str(sentiment_score)\n",
    "    elif sentiment_score > 0:\n",
    "        output = \"Positive sentiment: \" + str(sentiment_score)\n",
    "    else:\n",
    "        output = \"Negative sentiment: \" + str(sentiment_score)\n",
    "   \n",
    "    return output  \n",
    "\n",
    "\n",
    "def predict_subjectivity(text):\n",
    "    \"\"\"\n",
    "    Input\n",
    "    ----------\n",
    "    text(string)\n",
    "\n",
    "    Returns\n",
    "    ----------\n",
    "    The subjectivity score ranging from [0,1]\n",
    "    \"\"\"\n",
    "\n",
    "    TextBlob_object = TextBlob(text)\n",
    "    subjectivity_score = TextBlob_object.sentiment.subjectivity\n",
    "    output = \"Subjectivity: \" + str(subjectivity_score)\n",
    "    \n",
    "    return output"
   ]
  },
  {
   "cell_type": "code",
   "execution_count": 155,
   "metadata": {},
   "outputs": [
    {
     "data": {
      "text/plain": [
       "'Positive sentiment: 0.5'"
      ]
     },
     "execution_count": 155,
     "metadata": {},
     "output_type": "execute_result"
    }
   ],
   "source": [
    "predict_sentiment(\"I love piano\")"
   ]
  },
  {
   "cell_type": "code",
   "execution_count": 156,
   "metadata": {},
   "outputs": [
    {
     "data": {
      "text/plain": [
       "'Subjectivity: 0.6'"
      ]
     },
     "execution_count": 156,
     "metadata": {},
     "output_type": "execute_result"
    }
   ],
   "source": [
    "predict_subjectivity(\"I love piano\")"
   ]
  },
  {
   "cell_type": "markdown",
   "metadata": {},
   "source": [
    "## Spell Checker"
   ]
  },
  {
   "cell_type": "code",
   "execution_count": 143,
   "metadata": {},
   "outputs": [
    {
     "name": "stdout",
     "output_type": "stream",
     "text": [
      "I wanted good spelling!\n"
     ]
    }
   ],
   "source": [
    "b = TextBlob(\"I wanted goood speling!\")\n",
    "print(b.correct())"
   ]
  },
  {
   "cell_type": "markdown",
   "metadata": {},
   "source": [
    "# Text readabilty"
   ]
  },
  {
   "cell_type": "code",
   "execution_count": null,
   "metadata": {},
   "outputs": [],
   "source": [
    "!pip install textstat==0.7.0"
   ]
  },
  {
   "cell_type": "code",
   "execution_count": 93,
   "metadata": {},
   "outputs": [
    {
     "data": {
      "text/plain": [
       "48.67"
      ]
     },
     "execution_count": 93,
     "metadata": {},
     "output_type": "execute_result"
    }
   ],
   "source": [
    "import textstat\n",
    "\n",
    "# note this has to be completed before text preprocessing \n",
    "textstat.flesch_reading_ease(text)"
   ]
  },
  {
   "cell_type": "markdown",
   "metadata": {},
   "source": [
    "## Emotion analysis usingh the NRC Lexicon"
   ]
  },
  {
   "cell_type": "code",
   "execution_count": null,
   "metadata": {},
   "outputs": [],
   "source": [
    "!pip install SimpleText==1.0.3\n",
    "!pip install NRCLex==3.0.0"
   ]
  },
  {
   "cell_type": "code",
   "execution_count": 111,
   "metadata": {},
   "outputs": [],
   "source": [
    "from nrclex import NRCLex\n",
    "from SimpleText.preprocessor import lowercase, strip_accents, strip_punctuation, strip_url \n",
    "\n",
    "text = ARTICLE2\n",
    "\n",
    "# preprocess the text \n",
    "text = lowercase(text) \n",
    "text = strip_accents(text)\n",
    "text = strip_punctuation(text)\n",
    "text = strip_url(text) "
   ]
  },
  {
   "cell_type": "code",
   "execution_count": 112,
   "metadata": {},
   "outputs": [],
   "source": [
    "text_object = NRCLex(text)"
   ]
  },
  {
   "cell_type": "code",
   "execution_count": 117,
   "metadata": {},
   "outputs": [
    {
     "data": {
      "text/plain": [
       "{'fear': 0.0375,\n",
       " 'anger': 0.05,\n",
       " 'trust': 0.2,\n",
       " 'sadness': 0.0625,\n",
       " 'disgust': 0.025,\n",
       " 'joy': 0.1}"
      ]
     },
     "execution_count": 117,
     "metadata": {},
     "output_type": "execute_result"
    }
   ],
   "source": [
    "# only get scores for: fear, anger, trust, surprise, sadness, disgust, joy, anticipation \n",
    "emotion_scores_dictionary = text_object.affect_frequencies\n",
    "\n",
    "keys = ['fear', 'anger', 'trust', 'sadness', 'disgust', 'joy']\n",
    "\n",
    "filtered_emotion_scores_dictionary = dict((k, round(emotion_scores_dictionary[k], 4)) for k in keys if k in emotion_scores_dictionary)\n",
    "filtered_emotion_scores_dictionary"
   ]
  },
  {
   "cell_type": "code",
   "execution_count": 118,
   "metadata": {},
   "outputs": [
    {
     "data": {
      "image/png": "[encoded data removed]",
      "text/plain": [
       "<Figure size 432x288 with 1 Axes>"
      ]
     },
     "metadata": {
      "needs_background": "light"
     },
     "output_type": "display_data"
    }
   ],
   "source": [
    "import matplotlib.pyplot as plt\n",
    "\n",
    "D = filtered_emotion_scores_dictionary\n",
    "\n",
    "plt.bar(range(len(D)), list(D.values()), align='center')\n",
    "plt.xticks(range(len(D)), list(D.keys()))\n",
    "plt.show;"
   ]
  },
  {
   "cell_type": "code",
   "execution_count": 119,
   "metadata": {},
   "outputs": [
    {
     "data": {
      "text/plain": [
       "{'fear': ['loyal', 'doubt', 'reckless'],\n",
       " 'anger': ['vote', 'angry', 'reckless', 'fraud'],\n",
       " 'trust': ['president',\n",
       "  'victory',\n",
       "  'cabinet',\n",
       "  'loyal',\n",
       "  'vote',\n",
       "  'true',\n",
       "  'doubt',\n",
       "  'calls',\n",
       "  'advice',\n",
       "  'leading',\n",
       "  'winning'],\n",
       " 'sadness': ['vote', 'lost', 'doubt', 'leave', 'winning'],\n",
       " 'disgust': ['angry', 'winning'],\n",
       " 'joy': ['victory', 'loyal', 'vote', 'true', 'winning']}"
      ]
     },
     "execution_count": 119,
     "metadata": {},
     "output_type": "execute_result"
    }
   ],
   "source": [
    "words_emotions_dictionary = text_object.affect_dict\n",
    "\n",
    "# inverse the keys and values in the dictionary so the keys are emotions and values are the words\n",
    "emotions_words_dictionary = {}\n",
    "for k,v in words_emotions_dictionary.items():\n",
    "    for x in v:\n",
    "        emotions_words_dictionary.setdefault(x,[]).append(k)\n",
    "\n",
    "emotions_words_dictionary = dict((k, emotions_words_dictionary[k]) for k in keys if k in emotions_words_dictionary)\n",
    "emotions_words_dictionary"
   ]
  },
  {
   "cell_type": "code",
   "execution_count": 110,
   "metadata": {},
   "outputs": [
    {
     "data": {
      "text/plain": [
       "{'fear': 0.16129032258064516,\n",
       " 'anger': 0.13978494623655913,\n",
       " 'anticip': 0.0,\n",
       " 'trust': 0.12903225806451613,\n",
       " 'surprise': 0.010752688172043012,\n",
       " 'positive': 0.11827956989247312,\n",
       " 'negative': 0.12903225806451613,\n",
       " 'sadness': 0.06451612903225806,\n",
       " 'disgust': 0.043010752688172046,\n",
       " 'joy': 0.043010752688172046,\n",
       " 'anticipation': 0.16129032258064516}"
      ]
     },
     "execution_count": 110,
     "metadata": {},
     "output_type": "execute_result"
    }
   ],
   "source": [
    "text_object.top_emotions"
   ]
  },
  {
   "cell_type": "code",
   "execution_count": null,
   "metadata": {},
   "outputs": [],
   "source": [
    "#Return words list.\n",
    "\n",
    "text_object.words\n",
    "\n",
    "\n",
    "#Return sentences list.\n",
    "\n",
    "text_object.sentences\n",
    "\n",
    "\n",
    "#Return affect list.\n",
    "\n",
    "text_object.affect_list\n",
    "\n",
    "\n",
    "#Return affect dictionary.\n",
    "\n",
    "text_object.affect_dict\n",
    "\n",
    "\n",
    "#Return raw emotional counts.\n",
    "\n",
    "text_object.raw_emotion_scores\n",
    "\n",
    "\n",
    "#Return highest emotions.\n",
    "\n",
    "text_object.top_emotions\n",
    "\n",
    "\n",
    "#Return affect frequencies.\n",
    "\n",
    "text_object.affect_frequencies"
   ]
  },
  {
   "cell_type": "code",
   "execution_count": null,
   "metadata": {},
   "outputs": [],
   "source": [
    "def get_emotion_scores(text):\n",
    "\n",
    "    \"\"\"\n",
    "    Input\n",
    "    ----------\n",
    "    text(string)\n",
    "\n",
    "    Returns\n",
    "    ----------\n",
    "    emotions_dictionary (list): Two items in the list: 1)  a dictionary of scores \n",
    "                                for each emotions and 2) a dictionary of emotions\n",
    "                                and words from the text associated with the emotion\n",
    "    \"\"\"\n",
    "\n",
    "    # preprocess the text \n",
    "    text = lowercase(text) \n",
    "    text = strip_accents(text)\n",
    "    text = strip_punctuation(text)\n",
    "    text = strip_url(text) \n",
    "\n",
    "    # instantiate the text object \n",
    "    text_object = NRCLex(text)\n",
    "\n",
    "    # get scores for: fear, anger, trust, surprise, sadness, disgust, joy, anticipation \n",
    "    emotion_scores_dictionary = text_object.affect_frequencies\n",
    "    keys = ['fear', 'anger', 'trust', 'surprise', 'sadness', 'disgust', 'joy', 'anticipation']\n",
    "    filtered_emotion_scores_dictionary = dict((k, round(emotion_scores_dictionary[k], 4)) for k in keys if k in emotion_scores_dictionary)\n",
    "\n",
    "    # get a dictionary of the words corresponding to each emotion\n",
    "    words_emotions_dictionary = text_object.affect_dict\n",
    "\n",
    "    # inverse the keys and values in the dictionary so the keys are emotions and values are the words\n",
    "    emotions_words_dictionary = {}\n",
    "    for k,v in words_emotions_dictionary.items():\n",
    "        for x in v:\n",
    "            emotions_words_dictionary.setdefault(x,[]).append(k)\n",
    "\n",
    "    # get emotion/word association for: fear, anger, trust, surprise, sadness, disgust, joy, anticipation\n",
    "    filtered_emotions_words_dictionary = dict((k, emotions_words_dictionary[k]) for k in keys if k in emotions_words_dictionary)\n",
    "\n",
    "    emotions_output = [filtered_emotion_scores_dictionary, filtered_emotions_words_dictionary]\n",
    "\n",
    "    return emotions_output"
   ]
  },
  {
   "cell_type": "markdown",
   "metadata": {},
   "source": [
    "## Web scrapping"
   ]
  },
  {
   "cell_type": "code",
   "execution_count": null,
   "metadata": {},
   "outputs": [],
   "source": [
    "!pip install newspaper3k==0.2.8\n",
    "!pip install validators==0.18.2"
   ]
  },
  {
   "cell_type": "code",
   "execution_count": 233,
   "metadata": {
    "scrolled": false
   },
   "outputs": [],
   "source": [
    "from newspaper import Article\n",
    " \n",
    "url = \"http://theautomatic.net/2020/08/05/how-to-scrape-news-articles-with-python/\"\n",
    "url2 = 'http://fox13now.com/2013/12/30/new-year-new-laws-obamacare-pot-guns-and-drones/'"
   ]
  },
  {
   "cell_type": "code",
   "execution_count": null,
   "metadata": {},
   "outputs": [],
   "source": [
    "import validators\n",
    "\n",
    "test_text = 'http://x13now.com/2013/12/30/new-year-new-laws-obamacare-pot-guns-and-drones/'\n",
    "\n",
    "valid=validators.url(test_text)\n",
    "\n",
    "if valid==True:\n",
    "    try: \n",
    "        test_text = url_text_extractor(test_text)\n",
    "\n",
    "    except:\n",
    "        raise AttributeError(\"IncorrectUrl\")"
   ]
  },
  {
   "cell_type": "markdown",
   "metadata": {},
   "source": [
    "# Other resources\n",
    "\n",
    "- Types of extractive text summarisation methods: https://pkghosh.wordpress.com/2019/06/27/six-unsupervised-extractive-text-summarization-techniques-side-by-side/\n",
    "\n",
    "- TextRank: https://towardsdatascience.com/understand-text-summarization-and-create-your-own-summarizer-in-python-b26a9f09fc70"
   ]
  },
  {
   "cell_type": "code",
   "execution_count": null,
   "metadata": {},
   "outputs": [],
   "source": []
  }
 ],
 "metadata": {
  "kernelspec": {
   "display_name": "Python 3",
   "language": "python",
   "name": "python3"
  },
  "language_info": {
   "codemirror_mode": {
    "name": "ipython",
    "version": 3
   },
   "file_extension": ".py",
   "mimetype": "text/x-python",
   "name": "python",
   "nbconvert_exporter": "python",
   "pygments_lexer": "ipython3",
   "version": "3.7.4"
  }
 },
 "nbformat": 4,
 "nbformat_minor": 2
}
